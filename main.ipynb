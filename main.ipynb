{
 "cells": [
  {
   "cell_type": "code",
   "execution_count": null,
   "metadata": {},
   "outputs": [],
   "source": [
    "from data_parser import DataParser\n",
    "from datetime import datetime\n",
    "import pandas as pd\n",
    "import numpy as np\n",
    "import copy"
   ]
  },
  {
   "cell_type": "code",
   "execution_count": null,
   "metadata": {},
   "outputs": [],
   "source": [
    "dp = DataParser(filename='../data/GBPUSD.csv')"
   ]
  },
  {
   "cell_type": "code",
   "execution_count": null,
   "metadata": {},
   "outputs": [],
   "source": [
    "start_datetime = datetime.strptime('20021001 223600','%Y%m%d %H%M%S')\n",
    "end_datetime = datetime.strptime('20120228 183600','%Y%m%d %H%M%S')"
   ]
  },
  {
   "cell_type": "code",
   "execution_count": null,
   "metadata": {},
   "outputs": [],
   "source": [
    "dp.filter_by_date(start_datetime, end_datetime)"
   ]
  },
  {
   "cell_type": "code",
   "execution_count": null,
   "metadata": {},
   "outputs": [],
   "source": [
    "dp.sample_by_time('40min', 2160000000000)"
   ]
  },
  {
   "cell_type": "code",
   "execution_count": null,
   "metadata": {},
   "outputs": [],
   "source": [
    "\n",
    "Xn,yn = dp.get_close_price_numpy_array(1, 22, 21, 30,36)"
   ]
  },
  {
   "cell_type": "code",
   "execution_count": null,
   "metadata": {},
   "outputs": [],
   "source": [
    "Xn1 = dp.tranform_X_to_returns(Xn)"
   ]
  },
  {
   "cell_type": "code",
   "execution_count": null,
   "metadata": {},
   "outputs": [],
   "source": [
    "Xn2 = dp.transform_X_with_IWMA(Xn1)"
   ]
  },
  {
   "cell_type": "code",
   "execution_count": null,
   "metadata": {},
   "outputs": [],
   "source": [
    "X_norm, y_norm = dp.normalize_data(Xn2, yn)"
   ]
  },
  {
   "cell_type": "code",
   "execution_count": null,
   "metadata": {},
   "outputs": [],
   "source": [
    "print(X_norm.shape)\n",
    "print(y_norm.shape)"
   ]
  },
  {
   "cell_type": "code",
   "execution_count": null,
   "metadata": {},
   "outputs": [],
   "source": [
    "from sklearn.model_selection import train_test_split"
   ]
  },
  {
   "cell_type": "code",
   "execution_count": null,
   "metadata": {},
   "outputs": [],
   "source": [
    "train_X, test_X, train_y, test_y = train_test_split(X_norm, y_norm, test_size=0.2, random_state=42)\n",
    "train_X_in, test_X_in, train_y_in, test_y_in = train_test_split(train_X, train_y, test_size=0.1, random_state=42)"
   ]
  },
  {
   "cell_type": "code",
   "execution_count": null,
   "metadata": {},
   "outputs": [],
   "source": [
    "from ann import ANN"
   ]
  },
  {
   "cell_type": "code",
   "execution_count": null,
   "metadata": {},
   "outputs": [],
   "source": [
    "from GA import GeneticAlgorithm"
   ]
  },
  {
   "cell_type": "code",
   "execution_count": null,
   "metadata": {},
   "outputs": [],
   "source": [
    "def fitness(chromosome):\n",
    "    #chromosomes have 8 bits. first 4 bits are the hidden layer 1, next 4 bits are hidden layer 2. but chromosome is a numpy array\n",
    "    hidden_layer_1 = 0\n",
    "    hidden_layer_2 = 0\n",
    "    for i in range(4):\n",
    "        hidden_layer_1 += chromosome[i] * (2 ** (3-i))\n",
    "        hidden_layer_2 += chromosome[i+4] * (2 ** (3-i))\n",
    "#take mod with 20\n",
    "    hidden_layer_1 = (hidden_layer_1 % 20) + 1\n",
    "    hidden_layer_2 = (hidden_layer_2 % 20) + 1\n",
    "    ann = ANN(hidden_layer_1, hidden_layer_2, 20, 1, 'tanh','lbfgs', 1000,42)\n",
    "    ann.fit(train_X_in, train_y_in)\n",
    "    y_pred = ann.predict(test_X_in)\n",
    "    nc = ann.num_correct(test_y_in, y_pred)\n",
    "    return nc"
   ]
  },
  {
   "cell_type": "code",
   "execution_count": null,
   "metadata": {},
   "outputs": [],
   "source": [
    "ga = GeneticAlgorithm(population_size=30, chromosome_length=8, crossover_rate=0.8, mutation_rate=0.2, num_generations=40, stall_generations=15)\n",
    "ga.fitness_function = fitness\n",
    "best_chromosome, best_fitness = ga.run()"
   ]
  },
  {
   "cell_type": "code",
   "execution_count": null,
   "metadata": {},
   "outputs": [],
   "source": [
    "print(best_chromosome)"
   ]
  },
  {
   "cell_type": "code",
   "execution_count": null,
   "metadata": {},
   "outputs": [],
   "source": [
    "hidden_layer_1 = 0\n",
    "hidden_layer_2 = 0\n",
    "for i in range(4):\n",
    "    hidden_layer_1 += best_chromosome[i] * (2 ** (3-i))\n",
    "    hidden_layer_2 += best_chromosome[i+4] * (2 ** (3-i))\n",
    "#take mod with 20\n",
    "hidden_layer_1 = (hidden_layer_1 % 20) + 1\n",
    "hidden_layer_2 = (hidden_layer_2 % 20) + 1\n",
    "ann = ANN(hidden_layer_1, hidden_layer_2, 20, 1, 'tanh', 'adam', 100, 42)\n",
    "ann.fit(train_X_in, train_y_in)\n",
    "y_pred = ann.predict(test_X)\n",
    "nc = ann.num_correct(test_y, y_pred)\n",
    "print(nc)"
   ]
  },
  {
   "cell_type": "code",
   "execution_count": null,
   "metadata": {},
   "outputs": [],
   "source": [
    "print(ann.num_wrong(test_y, y_pred))"
   ]
  }
 ],
 "metadata": {
  "kernelspec": {
   "display_name": "algoedge",
   "language": "python",
   "name": "python3"
  },
  "language_info": {
   "codemirror_mode": {
    "name": "ipython",
    "version": 3
   },
   "file_extension": ".py",
   "mimetype": "text/x-python",
   "name": "python",
   "nbconvert_exporter": "python",
   "pygments_lexer": "ipython3",
   "version": "3.9.18"
  }
 },
 "nbformat": 4,
 "nbformat_minor": 2
}
