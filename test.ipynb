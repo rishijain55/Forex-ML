{
 "cells": [
  {
   "cell_type": "code",
   "execution_count": 5,
   "metadata": {},
   "outputs": [],
   "source": [
    "from data_parser2 import DataParser\n",
    "from datetime import datetime\n",
    "import pandas as pd"
   ]
  },
  {
   "cell_type": "code",
   "execution_count": 16,
   "metadata": {},
   "outputs": [],
   "source": [
    "dp = DataParser(filename='data/GBPUSD.csv')"
   ]
  },
  {
   "cell_type": "code",
   "execution_count": 17,
   "metadata": {},
   "outputs": [],
   "source": [
    "start_datetime = datetime.strptime('20101001 223600', '%Y%m%d %H%M%S')\n",
    "end_datetime = datetime.strptime('20120228 183600', '%Y%m%d %H%M%S')"
   ]
  },
  {
   "cell_type": "code",
   "execution_count": 18,
   "metadata": {},
   "outputs": [],
   "source": [
    "dp.filter_by_date(start_datetime, end_datetime)\n",
    "dp.sample_by_time('40min', 2160000000000)\n",
    "Xn,yn = dp.get_close_price_numpy_array(0, 21, 21, 30,36)"
   ]
  },
  {
   "cell_type": "code",
   "execution_count": 19,
   "metadata": {},
   "outputs": [],
   "source": [
    "Xn1 = dp.tranform_X_to_returns(Xn)"
   ]
  },
  {
   "cell_type": "code",
   "execution_count": 23,
   "metadata": {},
   "outputs": [],
   "source": [
    "Xn2 = dp.transform_X_with_IWMA(Xn1)"
   ]
  },
  {
   "cell_type": "code",
   "execution_count": 24,
   "metadata": {},
   "outputs": [],
   "source": [
    "X_norm, y_norm = dp.normalize_data(Xn2, yn)"
   ]
  },
  {
   "cell_type": "code",
   "execution_count": 25,
   "metadata": {},
   "outputs": [
    {
     "name": "stdout",
     "output_type": "stream",
     "text": [
      "(326, 21)\n",
      "(326,)\n"
     ]
    }
   ],
   "source": [
    "print(X_norm.shape)\n",
    "print(y_norm.shape)"
   ]
  }
 ],
 "metadata": {
  "kernelspec": {
   "display_name": "algoedge",
   "language": "python",
   "name": "python3"
  },
  "language_info": {
   "codemirror_mode": {
    "name": "ipython",
    "version": 3
   },
   "file_extension": ".py",
   "mimetype": "text/x-python",
   "name": "python",
   "nbconvert_exporter": "python",
   "pygments_lexer": "ipython3",
   "version": "3.9.18"
  }
 },
 "nbformat": 4,
 "nbformat_minor": 2
}
